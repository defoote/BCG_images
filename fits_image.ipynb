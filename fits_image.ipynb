{
 "cells": [
  {
   "cell_type": "code",
   "execution_count": 1,
   "metadata": {
    "collapsed": true
   },
   "outputs": [],
   "source": [
    "name = '1RXSJ0603'"
   ]
  },
  {
   "cell_type": "code",
   "execution_count": 2,
   "metadata": {
    "scrolled": false
   },
   "outputs": [
    {
     "data": {
      "image/png": "[encoded data removed]",
      "text/plain": [
       "<matplotlib.figure.Figure at 0x115b206d0>"
      ]
     },
     "metadata": {},
     "output_type": "display_data"
    }
   ],
   "source": [
    "import numpy as np\n",
    "import matplotlib.pyplot as plt\n",
    "from matplotlib.colors import LogNorm\n",
    "from astropy.visualization import astropy_mpl_style\n",
    "plt.style.use(astropy_mpl_style)\n",
    "from astropy.io import fits\n",
    "image_file = fits.open('%s.fits' % (name))\n",
    "image_data = image_file[0].data\n",
    "fig = plt.figure()\n",
    "plt.imshow(image_data, cmap='gray_r')\n",
    "plt.colorbar()\n",
    "plt.show()\n",
    "fig.savefig('%s.pdf' % (name))"
   ]
  },
  {
   "cell_type": "code",
   "execution_count": 3,
   "metadata": {},
   "outputs": [
    {
     "data": {
      "text/plain": [
       "(208, 207)"
      ]
     },
     "execution_count": 3,
     "metadata": {},
     "output_type": "execute_result"
    }
   ],
   "source": [
    "size = image_data.shape\n",
    "size"
   ]
  },
  {
   "cell_type": "code",
   "execution_count": 4,
   "metadata": {
    "collapsed": true
   },
   "outputs": [],
   "source": [
    "def max_search(array,xmin,xmax,ymin,ymax):\n",
    "    x_pos = xmin\n",
    "    y_pos = ymin\n",
    "    x_max_pos = 0\n",
    "    y_max_pos = 0\n",
    "    max = 0\n",
    "    for y_pos in range(ymin, ymax + 1):\n",
    "        for  x_pos in range(xmin, xmax + 1):\n",
    "            if max <= array[x_pos,y_pos]:\n",
    "                max = array[x_pos,y_pos]\n",
    "                x_max_pos = x_pos\n",
    "                y_max_pos = y_pos\n",
    "    print \"Max of %d at (%d,%d)\\n\" % (max, x_max_pos, y_max_pos)  \n",
    "    return (max,x_max_pos,y_max_pos)\n",
    "    "
   ]
  },
  {
   "cell_type": "code",
   "execution_count": 5,
   "metadata": {},
   "outputs": [
    {
     "name": "stdout",
     "output_type": "stream",
     "text": [
      "Max of 63 at (144,137)\n",
      "\n"
     ]
    }
   ],
   "source": [
    "max_inf = max_search(image_data,(size[0]/2)-(size[0]/5),(size[0]/2)+(size[0]/5),(size[1]/2)-(size[1]/5),\n",
    "                     (size[1]/2)+(size[1]/5))"
   ]
  },
  {
   "cell_type": "code",
   "execution_count": 6,
   "metadata": {
    "collapsed": true
   },
   "outputs": [],
   "source": [
    "def circle_check(array,x0,y0,r):\n",
    "    copy = array\n",
    "    values = np.array([])\n",
    "    median = np.array([])\n",
    "    f = 1 - r\n",
    "    x = 0\n",
    "    y = r\n",
    "    dx = 1\n",
    "    dy = -2 * r\n",
    "    \n",
    "    values = np.append(values,array[x0 + r, y0])\n",
    "    values = np.append(values,array[x0 - r, y0])  \n",
    "    values = np.append(values,array[x0, y0 + r])\n",
    "    values = np.append(values,array[x0, y0 - r])\n",
    "    \n",
    "    while x < y:\n",
    "        if f >= 0:\n",
    "            y -= 1\n",
    "            dy += 2\n",
    "            f += dy\n",
    "        \n",
    "        x += 1\n",
    "        dx += 2\n",
    "        f += dx\n",
    "        \n",
    "        values = np.append(values,array[x0 + x, y0 + y])\n",
    "        values = np.append(values,array[x0 - x, y0 + y])\n",
    "        values = np.append(values,array[x0 + x, y0 - y])\n",
    "        values = np.append(values,array[x0 - x, y0 - y])\n",
    "        values = np.append(values,array[x0 + y, y0 + x])\n",
    "        values = np.append(values,array[x0 - y, y0 + x])\n",
    "        values = np.append(values,array[x0 + y, y0 - x])\n",
    "        values = np.append(values,array[x0 - y, y0 - x])\n",
    "        \n",
    "        '''\n",
    "        copy[x0 + x, y0 + y] = 30000\n",
    "        copy[x0 - x, y0 + y] = 30000 \n",
    "        copy[x0 + x, y0 - y] = 30000\n",
    "        copy[x0 - x, y0 - y] = 30000\n",
    "        copy[x0 + y, y0 + x] = 30000 \n",
    "        copy[x0 - y, y0 + x] = 30000\n",
    "        copy[x0 + y, y0 - x] = 30000\n",
    "        copy[x0 - y, y0 - x] = 30000\n",
    "        '''\n",
    "        \n",
    "    #print values\n",
    "    #print np.median(values)\n",
    "    median = np.append(median,np.median(values))\n",
    "\n",
    "    return median"
   ]
  },
  {
   "cell_type": "code",
   "execution_count": 7,
   "metadata": {},
   "outputs": [
    {
     "ename": "IndexError",
     "evalue": "index 208 is out of bounds for axis 0 with size 208",
     "output_type": "error",
     "traceback": [
      "\u001b[0;31m---------------------------------------------------------------------------\u001b[0m",
      "\u001b[0;31mIndexError\u001b[0m                                Traceback (most recent call last)",
      "\u001b[0;32m<ipython-input-7-42dc810e8eb3>\u001b[0m in \u001b[0;36m<module>\u001b[0;34m()\u001b[0m\n\u001b[1;32m      5\u001b[0m     \u001b[0mmax_r\u001b[0m \u001b[0;34m=\u001b[0m \u001b[0msize\u001b[0m\u001b[0;34m[\u001b[0m\u001b[0;36m0\u001b[0m\u001b[0;34m]\u001b[0m\u001b[0;34m/\u001b[0m\u001b[0;36m3\u001b[0m\u001b[0;34m\u001b[0m\u001b[0m\n\u001b[1;32m      6\u001b[0m \u001b[0;32mfor\u001b[0m \u001b[0mi\u001b[0m \u001b[0;32min\u001b[0m \u001b[0mrange\u001b[0m\u001b[0;34m(\u001b[0m\u001b[0;36m0\u001b[0m\u001b[0;34m,\u001b[0m\u001b[0mmax_r\u001b[0m\u001b[0;34m)\u001b[0m\u001b[0;34m:\u001b[0m\u001b[0;34m\u001b[0m\u001b[0m\n\u001b[0;32m----> 7\u001b[0;31m     \u001b[0mimage_medians\u001b[0m \u001b[0;34m=\u001b[0m \u001b[0mnp\u001b[0m\u001b[0;34m.\u001b[0m\u001b[0mappend\u001b[0m\u001b[0;34m(\u001b[0m\u001b[0mimage_medians\u001b[0m\u001b[0;34m,\u001b[0m\u001b[0mcircle_check\u001b[0m\u001b[0;34m(\u001b[0m\u001b[0mimage_data\u001b[0m\u001b[0;34m,\u001b[0m\u001b[0mmax_inf\u001b[0m\u001b[0;34m[\u001b[0m\u001b[0;36m1\u001b[0m\u001b[0;34m]\u001b[0m\u001b[0;34m,\u001b[0m\u001b[0mmax_inf\u001b[0m\u001b[0;34m[\u001b[0m\u001b[0;36m2\u001b[0m\u001b[0;34m]\u001b[0m\u001b[0;34m,\u001b[0m\u001b[0mi\u001b[0m\u001b[0;34m)\u001b[0m\u001b[0;34m/\u001b[0m\u001b[0mmax_inf\u001b[0m\u001b[0;34m[\u001b[0m\u001b[0;36m0\u001b[0m\u001b[0;34m]\u001b[0m\u001b[0;34m)\u001b[0m\u001b[0;34m\u001b[0m\u001b[0m\n\u001b[0m\u001b[1;32m      8\u001b[0m \u001b[0mimage_medians\u001b[0m\u001b[0;34m\u001b[0m\u001b[0m\n\u001b[1;32m      9\u001b[0m \u001b[0;34m\u001b[0m\u001b[0m\n",
      "\u001b[0;32m<ipython-input-6-a9fee5151ee0>\u001b[0m in \u001b[0;36mcircle_check\u001b[0;34m(array, x0, y0, r)\u001b[0m\n\u001b[1;32m      9\u001b[0m     \u001b[0mdy\u001b[0m \u001b[0;34m=\u001b[0m \u001b[0;34m-\u001b[0m\u001b[0;36m2\u001b[0m \u001b[0;34m*\u001b[0m \u001b[0mr\u001b[0m\u001b[0;34m\u001b[0m\u001b[0m\n\u001b[1;32m     10\u001b[0m \u001b[0;34m\u001b[0m\u001b[0m\n\u001b[0;32m---> 11\u001b[0;31m     \u001b[0mvalues\u001b[0m \u001b[0;34m=\u001b[0m \u001b[0mnp\u001b[0m\u001b[0;34m.\u001b[0m\u001b[0mappend\u001b[0m\u001b[0;34m(\u001b[0m\u001b[0mvalues\u001b[0m\u001b[0;34m,\u001b[0m\u001b[0marray\u001b[0m\u001b[0;34m[\u001b[0m\u001b[0mx0\u001b[0m \u001b[0;34m+\u001b[0m \u001b[0mr\u001b[0m\u001b[0;34m,\u001b[0m \u001b[0my0\u001b[0m\u001b[0;34m]\u001b[0m\u001b[0;34m)\u001b[0m\u001b[0;34m\u001b[0m\u001b[0m\n\u001b[0m\u001b[1;32m     12\u001b[0m     \u001b[0mvalues\u001b[0m \u001b[0;34m=\u001b[0m \u001b[0mnp\u001b[0m\u001b[0;34m.\u001b[0m\u001b[0mappend\u001b[0m\u001b[0;34m(\u001b[0m\u001b[0mvalues\u001b[0m\u001b[0;34m,\u001b[0m\u001b[0marray\u001b[0m\u001b[0;34m[\u001b[0m\u001b[0mx0\u001b[0m \u001b[0;34m-\u001b[0m \u001b[0mr\u001b[0m\u001b[0;34m,\u001b[0m \u001b[0my0\u001b[0m\u001b[0;34m]\u001b[0m\u001b[0;34m)\u001b[0m\u001b[0;34m\u001b[0m\u001b[0m\n\u001b[1;32m     13\u001b[0m     \u001b[0mvalues\u001b[0m \u001b[0;34m=\u001b[0m \u001b[0mnp\u001b[0m\u001b[0;34m.\u001b[0m\u001b[0mappend\u001b[0m\u001b[0;34m(\u001b[0m\u001b[0mvalues\u001b[0m\u001b[0;34m,\u001b[0m\u001b[0marray\u001b[0m\u001b[0;34m[\u001b[0m\u001b[0mx0\u001b[0m\u001b[0;34m,\u001b[0m \u001b[0my0\u001b[0m \u001b[0;34m+\u001b[0m \u001b[0mr\u001b[0m\u001b[0;34m]\u001b[0m\u001b[0;34m)\u001b[0m\u001b[0;34m\u001b[0m\u001b[0m\n",
      "\u001b[0;31mIndexError\u001b[0m: index 208 is out of bounds for axis 0 with size 208"
     ]
    }
   ],
   "source": [
    "image_medians = np.array([])\n",
    "if size[0] > size[1]:\n",
    "    max_r = size[1]/3\n",
    "if size[0] <= size[1]:\n",
    "    max_r = size[0]/3\n",
    "for i in range(0,max_r):\n",
    "    image_medians = np.append(image_medians,circle_check(image_data,max_inf[1],max_inf[2],i)/max_inf[0])\n",
    "image_medians\n",
    "    "
   ]
  },
  {
   "cell_type": "code",
   "execution_count": null,
   "metadata": {
    "scrolled": true
   },
   "outputs": [],
   "source": [
    "fig = plt.figure()\n",
    "plt.plot(image_medians)\n",
    "plt.show()\n",
    "fig.savefig('%s_profile.pdf' % (name))"
   ]
  },
  {
   "cell_type": "code",
   "execution_count": null,
   "metadata": {
    "collapsed": true
   },
   "outputs": [],
   "source": []
  }
 ],
 "metadata": {
  "kernelspec": {
   "display_name": "Python 2",
   "language": "python",
   "name": "python2"
  },
  "language_info": {
   "codemirror_mode": {
    "name": "ipython",
    "version": 2
   },
   "file_extension": ".py",
   "mimetype": "text/x-python",
   "name": "python",
   "nbconvert_exporter": "python",
   "pygments_lexer": "ipython2",
   "version": "2.7.13"
  }
 },
 "nbformat": 4,
 "nbformat_minor": 2
}
