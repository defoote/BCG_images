{
 "cells": [
  {
   "cell_type": "code",
   "execution_count": 1,
   "metadata": {
    "collapsed": true
   },
   "outputs": [],
   "source": [
    "#import sys\n",
    "#image_file = open(sys.argv[1]).read()"
   ]
  },
  {
   "cell_type": "code",
   "execution_count": 2,
   "metadata": {
    "collapsed": true
   },
   "outputs": [],
   "source": [
    "files = [['1RXSJ0603',0.22631],['A115',0.19285],['A521',0.24676],['A523',0.10389],\n",
    "         ['A746',0.21434],['A781',0.29748],['A1240',0.19457],\n",
    "         ['A1300',0.30550],['A1612',0.18229],['A2034',0.11381],\n",
    "         ['A2061',0.07805],['A2163',0.20115],['A2255',0.08012],\n",
    "         ['A2345',0.17881],['A2744',0.30590],['A3365',0.09282],\n",
    "         ['A3411',0.16255],['CIZAJ2242',0.18865],['MACSJ1149',0.54362],\n",
    "         ['MACSJ1752',0.36470],['PLCKG287',0.38321],['PSZG108',0.33494],\n",
    "         ['RXCJ1053',0.07217],['RXCJ1314',0.24703],['ZwCl0008',0.10383],\n",
    "         ['ZwCl1447',0.37574],['ZwCl1856',0.30362],['ZwCl2341',0.26960]]\n",
    "#REMOVED A2443"
   ]
  },
  {
   "cell_type": "code",
   "execution_count": 3,
   "metadata": {
    "collapsed": true
   },
   "outputs": [],
   "source": [
    "import matplotlib.pyplot as plt\n",
    "from matplotlib.colors import LogNorm\n",
    "from astropy.visualization import astropy_mpl_style\n",
    "import numpy as np\n",
    "from astropy.io import fits\n",
    "\n",
    "def main(name):    \n",
    "    image_data = get(name)\n",
    "    plot(image_data,name)\n",
    "    profile_dat = medians(image_data)\n",
    "    FWHM_value = profile(profile_dat,name)\n",
    "    return FWHM_value     "
   ]
  },
  {
   "cell_type": "code",
   "execution_count": 4,
   "metadata": {
    "collapsed": true,
    "scrolled": false
   },
   "outputs": [],
   "source": [
    "#Import fits file and plot image\n",
    "def get(name):\n",
    "    image_file = fits.open('%s.fits' % (name))\n",
    "    if name == 'ZwCl0008' or name == 'MACSJ1752':\n",
    "        image_data = image_file[1].data\n",
    "    else:\n",
    "        image_data = image_file[0].data\n",
    "    return image_data"
   ]
  },
  {
   "cell_type": "code",
   "execution_count": 5,
   "metadata": {
    "collapsed": true
   },
   "outputs": [],
   "source": [
    "def plot(image_data,name):\n",
    "    plt.style.use(astropy_mpl_style)\n",
    "    fig = plt.figure()\n",
    "    plt.imshow(image_data, cmap='gray_r')\n",
    "    cbar = plt.colorbar()\n",
    "    cbar.set_label('Brightness')\n",
    "    plt.annotate('%s' % (name), xy = (10,15),size = 18) \n",
    "    plt.xlabel('Pixels')\n",
    "    plt.ylabel('Pixels')\n",
    "    #plt.show()\n",
    "    fig.savefig('./PDFs_new/%s.pdf' % (name))\n",
    "    plt.close(fig)"
   ]
  },
  {
   "cell_type": "code",
   "execution_count": 6,
   "metadata": {
    "collapsed": true
   },
   "outputs": [],
   "source": [
    "#searches for maximum value of the array within a certain x and y range\n",
    "#returns max value and coordinate as tuple\n",
    "def max_search(array,xmin,xmax,ymin,ymax):\n",
    "    x_pos = xmin\n",
    "    y_pos = ymin\n",
    "    x_max_pos = 0\n",
    "    y_max_pos = 0\n",
    "    max = 0\n",
    "    for y_pos in range(ymin, ymax + 1):\n",
    "        for  x_pos in range(xmin, xmax + 1):\n",
    "            if max <= array[x_pos,y_pos]:\n",
    "                max = array[x_pos,y_pos]\n",
    "                x_max_pos = x_pos\n",
    "                y_max_pos = y_pos\n",
    "    #print \"Max of %d at (%d,%d)\\n\" % (max, x_max_pos, y_max_pos)  \n",
    "    return (max,x_max_pos,y_max_pos)\n",
    "    "
   ]
  },
  {
   "cell_type": "code",
   "execution_count": 7,
   "metadata": {
    "collapsed": true
   },
   "outputs": [],
   "source": [
    "#checks array elements in a circle using midpoint circle algorithm\n",
    "#finds median value along circle and returns it\n",
    "def circle_check(array,x0,y0,r):\n",
    "    copy = array\n",
    "    values = np.array([])\n",
    "    median = np.array([])\n",
    "    f = 1 - r\n",
    "    x = 0\n",
    "    y = r\n",
    "    dx = 1\n",
    "    dy = -2 * r\n",
    "    \n",
    "    values = np.append(values,array[x0 + r, y0])\n",
    "    values = np.append(values,array[x0 - r, y0])  \n",
    "    values = np.append(values,array[x0, y0 + r])\n",
    "    values = np.append(values,array[x0, y0 - r])\n",
    "    \n",
    "    while x < y:\n",
    "        if f >= 0:\n",
    "            y -= 1\n",
    "            dy += 2\n",
    "            f += dy\n",
    "        \n",
    "        x += 1\n",
    "        dx += 2\n",
    "        f += dx\n",
    "        \n",
    "        values = np.append(values,array[x0 + x, y0 + y])\n",
    "        values = np.append(values,array[x0 - x, y0 + y])\n",
    "        values = np.append(values,array[x0 + x, y0 - y])\n",
    "        values = np.append(values,array[x0 - x, y0 - y])\n",
    "        values = np.append(values,array[x0 + y, y0 + x])\n",
    "        values = np.append(values,array[x0 - y, y0 + x])\n",
    "        values = np.append(values,array[x0 + y, y0 - x])\n",
    "        values = np.append(values,array[x0 - y, y0 - x])\n",
    "        \n",
    "        '''\n",
    "        copy[x0 + x, y0 + y] = 30000\n",
    "        copy[x0 - x, y0 + y] = 30000 \n",
    "        copy[x0 + x, y0 - y] = 30000\n",
    "        copy[x0 - x, y0 - y] = 30000\n",
    "        copy[x0 + y, y0 + x] = 30000 \n",
    "        copy[x0 - y, y0 + x] = 30000\n",
    "        copy[x0 + y, y0 - x] = 30000\n",
    "        copy[x0 - y, y0 - x] = 30000\n",
    "        '''\n",
    "        \n",
    "    #print values\n",
    "    #print np.median(values)\n",
    "    median = np.append(median,np.median(values))\n",
    "\n",
    "    return median"
   ]
  },
  {
   "cell_type": "code",
   "execution_count": 8,
   "metadata": {
    "collapsed": true
   },
   "outputs": [],
   "source": [
    "def medians(image_data):\n",
    "    size = image_data.shape\n",
    "    #print \"Image Size: %s\\n\" % (size,)\n",
    "    max_inf = max_search(image_data,(size[0]/2)-(size[0]/20),(size[0]/2)+(size[0]/20),(size[1]/2)-(size[1]/20),\n",
    "                     (size[1]/2)+(size[1]/20))\n",
    "    image_medians = np.array([])\n",
    "    if size[0] > size[1]:\n",
    "        max_r = (size[1]/3)\n",
    "    if size[0] <= size[1]:\n",
    "        max_r = (size[0]/3)\n",
    "    for i in range(0,max_r):\n",
    "        image_medians = np.append(image_medians,circle_check(image_data,max_inf[1],max_inf[2],i)/max_inf[0])\n",
    "    return (image_medians,max_r)"
   ]
  },
  {
   "cell_type": "code",
   "execution_count": 9,
   "metadata": {
    "collapsed": true
   },
   "outputs": [],
   "source": [
    "def FWHM(arr):\n",
    "    diff = 10\n",
    "    i = 0\n",
    "    while diff > 0.01:\n",
    "        diff = abs(arr[i]-0.5)\n",
    "        i += 1\n",
    "        \n",
    "    return (i-1)/100.0"
   ]
  },
  {
   "cell_type": "code",
   "execution_count": 10,
   "metadata": {
    "collapsed": true
   },
   "outputs": [],
   "source": [
    "def profile(profile_dat,name):\n",
    "    xp = np.arange(0,profile_dat[1],1)\n",
    "    x = np.arange(0,profile_dat[1],0.01)\n",
    "    yinterp = np.interp(x,xp,profile_dat[0])\n",
    "\n",
    "    fig = plt.figure()\n",
    "    plt.semilogy(x,yinterp)\n",
    "    plt.axvline(FWHM(yinterp), color = 'r')\n",
    "    plt.annotate('FWHM = %.2f' % (FWHM(yinterp)), xy = (10,10e-3))\n",
    "    plt.xlabel('Pixel Radius from Brightest Pixel')\n",
    "    plt.ylabel('Brightness')\n",
    "    fig.savefig('./PDFs_new/%s_profile.pdf' % (name))\n",
    "    plt.close(fig)\n",
    "    #plt.show()\n",
    "    return FWHM(yinterp)"
   ]
  },
  {
   "cell_type": "code",
   "execution_count": 11,
   "metadata": {},
   "outputs": [
    {
     "name": "stdout",
     "output_type": "stream",
     "text": [
      "1RXSJ0603 is complete\n",
      "A115 is complete\n",
      "A521 is complete\n",
      "A523 is complete\n",
      "A746 is complete\n",
      "A781 is complete\n",
      "A1240 is complete\n",
      "A1300 is complete\n",
      "A1612 is complete\n",
      "A2034 is complete\n",
      "A2061 is complete\n",
      "A2163 is complete\n",
      "A2255 is complete\n",
      "A2345 is complete\n",
      "A2744 is complete\n",
      "A3365 is complete\n",
      "A3411 is complete\n",
      "CIZAJ2242 is complete\n",
      "MACSJ1149 is complete\n",
      "MACSJ1752 is complete\n",
      "PLCKG287 is complete\n",
      "PSZG108 is complete\n",
      "RXCJ1053 is complete\n",
      "RXCJ1314 is complete\n",
      "ZwCl0008 is complete\n",
      "ZwCl1447 is complete\n",
      "ZwCl1856 is complete\n",
      "ZwCl2341 is complete\n",
      "Finished!\n"
     ]
    }
   ],
   "source": [
    "FWHM_list = []\n",
    "for file in files:\n",
    "    FWHM_list.append(main(file[0]))\n",
    "    print '%s is complete' % (file[0])\n",
    "print 'Finished!'\n",
    "#print FWHM_list"
   ]
  },
  {
   "cell_type": "code",
   "execution_count": 12,
   "metadata": {},
   "outputs": [
    {
     "name": "stdout",
     "output_type": "stream",
     "text": [
      "4.32214285714\n"
     ]
    }
   ],
   "source": [
    "print np.mean(FWHM_list)"
   ]
  },
  {
   "cell_type": "code",
   "execution_count": 13,
   "metadata": {
    "collapsed": true
   },
   "outputs": [],
   "source": [
    "import scipy.integrate\n",
    "c = 3*10**5\n",
    "\n",
    "def chi(x,Om=.3,Ol=.7):\n",
    "    # proportional to root(1/H(t))\n",
    "    return 1/np.sqrt(Ol+Om*(1+x)**3+(1-Ol-Om)*(1+x)**2)\n",
    "\n",
    "def Da(z,h=0.7,Om=0.3,Ol=0.7):\n",
    "    \"\"\"\n",
    "    Usage: Da(z,h=0.7,Om=0.3,Ol=0.7)\n",
    "\n",
    "    Returns the cosmological angular diameter distance (in units of Mpc)\n",
    "    \"\"\"\n",
    "    f0 = scipy.integrate.quad(lambda x: chi(x,Om,Ol),0,z)[0]\n",
    "    da = c/(100.0*h)/(1+z)*f0\n",
    "    return da"
   ]
  },
  {
   "cell_type": "code",
   "execution_count": 32,
   "metadata": {},
   "outputs": [
    {
     "name": "stdout",
     "output_type": "stream",
     "text": [
      "[ 0.0104242   0.01097372  0.01158715  0.01446897  0.01682959  0.01648485\n",
      "  0.0084336   0.01778353  0.00708733  0.0202414   0.0108003   0.01121077\n",
      "  0.01087853  0.01510511  0.01183623  0.00949996  0.01291705  0.00778837\n",
      "  0.0244944   0.01477057  0.02764911  0.01853826  0.0080195   0.02074963\n",
      "  0.00753606  0.01401749  0.01213504  0.01008631]\n"
     ]
    }
   ],
   "source": [
    "i = 0\n",
    "FWHM_dist = np.array([])\n",
    "for FWHM_val in FWHM_list:\n",
    "    FWHM_dist = np.append(FWHM_dist,(FWHM_val*4.84814e-6)*Da(files[i][1]))\n",
    "    i += 1\n",
    "print FWHM_dist\n"
   ]
  },
  {
   "cell_type": "code",
   "execution_count": 60,
   "metadata": {},
   "outputs": [
    {
     "data": {
      "image/png": "[encoded data removed]",
      "text/plain": [
       "<matplotlib.figure.Figure at 0x110bd2c10>"
      ]
     },
     "metadata": {},
     "output_type": "display_data"
    }
   ],
   "source": [
    "z = np.array([])\n",
    "for file in files:\n",
    "     z = np.append(z,file[1])    \n",
    "        \n",
    "linear_fit = np.polyfit(z,FWHM_dist,1)\n",
    "linear_fit_fct = np.poly1d(linear_fit)\n",
    "fit_x = np.arange(0.025,0.577,0.01)\n",
    "\n",
    "fig = plt.figure()\n",
    "plt.scatter(z,FWHM_dist)\n",
    "plt.plot(fit_x,linear_fit_fct(fit_x),'r')\n",
    "plt.xlabel('Redshift')\n",
    "plt.ylabel('FWHM (Mpc)')\n",
    "plt.xlim(0,0.6)\n",
    "plt.ylim(0,0.035)\n",
    "plt.annotate('m = %.5f\\nb = %.5f' %  (linear_fit[0],linear_fit[1]), xy = (0.475,0.031))\n",
    "plt.show()\n",
    "fig.savefig('FWHM.pdf')"
   ]
  },
  {
   "cell_type": "code",
   "execution_count": null,
   "metadata": {
    "collapsed": true
   },
   "outputs": [],
   "source": []
  }
 ],
 "metadata": {
  "kernelspec": {
   "display_name": "Python 2",
   "language": "python",
   "name": "python2"
  },
  "language_info": {
   "codemirror_mode": {
    "name": "ipython",
    "version": 2
   },
   "file_extension": ".py",
   "mimetype": "text/x-python",
   "name": "python",
   "nbconvert_exporter": "python",
   "pygments_lexer": "ipython2",
   "version": "2.7.13"
  }
 },
 "nbformat": 4,
 "nbformat_minor": 2
}
